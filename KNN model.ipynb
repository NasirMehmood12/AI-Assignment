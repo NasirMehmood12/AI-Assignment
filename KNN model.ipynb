{
  "nbformat": 4,
  "nbformat_minor": 0,
  "metadata": {
    "colab": {
      "provenance": []
    },
    "kernelspec": {
      "name": "python3",
      "display_name": "Python 3"
    },
    "language_info": {
      "name": "python"
    }
  },
  "cells": [
    {
      "cell_type": "code",
      "execution_count": 2,
      "metadata": {
        "id": "gbDfQbvyj0bY",
        "colab": {
          "base_uri": "https://localhost:8080/"
        },
        "outputId": "24b2ecf9-cc57-4a57-d8c1-0f15474166a0"
      },
      "outputs": [
        {
          "output_type": "stream",
          "name": "stdout",
          "text": [
            "   work_year experience_level employment_type             job_title  salary  \\\n",
            "0       2024               MI              FT        Data Scientist  120000   \n",
            "1       2024               MI              FT        Data Scientist   70000   \n",
            "2       2024               MI              CT        Data Scientist  130000   \n",
            "3       2024               MI              CT        Data Scientist  110000   \n",
            "4       2024               MI              FT  Data Science Manager  240000   \n",
            "\n",
            "  salary_currency  salary_in_usd employee_residence  remote_ratio  \\\n",
            "0             USD         120000                 AU             0   \n",
            "1             USD          70000                 AU             0   \n",
            "2             USD         130000                 US             0   \n",
            "3             USD         110000                 US             0   \n",
            "4             USD         240000                 US             0   \n",
            "\n",
            "  company_location company_size  \n",
            "0               AU            S  \n",
            "1               AU            S  \n",
            "2               US            M  \n",
            "3               US            M  \n",
            "4               US            M  \n",
            "Accuracy of the k-NN model: 0.81\n"
          ]
        }
      ],
      "source": [
        "import pandas as pd\n",
        "from sklearn.model_selection import train_test_split\n",
        "from sklearn.preprocessing import StandardScaler\n",
        "from sklearn.neighbors import KNeighborsClassifier\n",
        "from sklearn.metrics import accuracy_score\n",
        "\n",
        "# Load the dataset\n",
        "df = pd.read_csv('salaries.csv')\n",
        "\n",
        "# Display the first few rows of the DataFrame to understand the structure\n",
        "print(df.head())\n",
        "\n",
        "# Select the columns you want to use as features\n",
        "selected_columns = ['salary', 'salary_in_usd' ]  # Add or modify columns as needed\n",
        "features = df[selected_columns]\n",
        "\n",
        "# Specify the target column\n",
        "target = df['salary']\n",
        "\n",
        "# # Handle missing values (if any)\n",
        "# features = features.fillna(features.mean())\n",
        "\n",
        "# Convert categorical variables to dummy variables (if any)\n",
        "features = pd.get_dummies(features, drop_first=True)\n",
        "\n",
        "# Standardize the feature variables\n",
        "scaler = StandardScaler()\n",
        "features = scaler.fit_transform(features)\n",
        "\n",
        "# Split the data into training and test sets\n",
        "X_train, X_test, y_train, y_test = train_test_split(features, target, test_size=0.2, random_state=42)\n",
        "\n",
        "# Initialize the k-NN classifier with k=5 (or any other value you find appropriate)\n",
        "knn = KNeighborsClassifier(n_neighbors=5)\n",
        "\n",
        "# Fit the model on the training data\n",
        "knn.fit(X_train, y_train)\n",
        "\n",
        "# Predict the target values for the test set\n",
        "y_pred = knn.predict(X_test)\n",
        "\n",
        "# Calculate the accuracy\n",
        "accuracy = accuracy_score(y_test, y_pred)\n",
        "print(f'Accuracy of the k-NN model: {accuracy:.2f}')\n"
      ]
    },
    {
      "cell_type": "code",
      "source": [],
      "metadata": {
        "id": "caArufmg-6QW"
      },
      "execution_count": null,
      "outputs": []
    }
  ]
}